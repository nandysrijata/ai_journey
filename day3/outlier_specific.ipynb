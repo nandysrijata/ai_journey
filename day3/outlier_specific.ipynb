{
 "cells": [
  {
   "cell_type": "markdown",
   "id": "cb608c93",
   "metadata": {},
   "source": [
    "Outliers are values that are very different from the rest of the data.\n",
    "They can mess up:\n",
    "\n",
    "1. Averages\n",
    "\n",
    "2. Graphs\n",
    "\n",
    "3. Machine learning models"
   ]
  },
  {
   "cell_type": "code",
   "execution_count": 1,
   "id": "6ea02ff2",
   "metadata": {},
   "outputs": [
    {
     "data": {
      "text/html": [
       "<div>\n",
       "<style scoped>\n",
       "    .dataframe tbody tr th:only-of-type {\n",
       "        vertical-align: middle;\n",
       "    }\n",
       "\n",
       "    .dataframe tbody tr th {\n",
       "        vertical-align: top;\n",
       "    }\n",
       "\n",
       "    .dataframe thead th {\n",
       "        text-align: right;\n",
       "    }\n",
       "</style>\n",
       "<table border=\"1\" class=\"dataframe\">\n",
       "  <thead>\n",
       "    <tr style=\"text-align: right;\">\n",
       "      <th></th>\n",
       "      <th>Open</th>\n",
       "      <th>High</th>\n",
       "      <th>Low</th>\n",
       "      <th>Close</th>\n",
       "      <th>Volume</th>\n",
       "    </tr>\n",
       "  </thead>\n",
       "  <tbody>\n",
       "    <tr>\n",
       "      <th>count</th>\n",
       "      <td>55.000000</td>\n",
       "      <td>60.000000</td>\n",
       "      <td>60.000000</td>\n",
       "      <td>55.000000</td>\n",
       "      <td>55.000000</td>\n",
       "    </tr>\n",
       "    <tr>\n",
       "      <th>mean</th>\n",
       "      <td>123.603273</td>\n",
       "      <td>154.867500</td>\n",
       "      <td>94.621833</td>\n",
       "      <td>124.989273</td>\n",
       "      <td>284198.072727</td>\n",
       "    </tr>\n",
       "    <tr>\n",
       "      <th>std</th>\n",
       "      <td>15.554059</td>\n",
       "      <td>2.922688</td>\n",
       "      <td>2.885187</td>\n",
       "      <td>14.502554</td>\n",
       "      <td>110080.834937</td>\n",
       "    </tr>\n",
       "    <tr>\n",
       "      <th>min</th>\n",
       "      <td>101.030000</td>\n",
       "      <td>150.060000</td>\n",
       "      <td>90.070000</td>\n",
       "      <td>100.250000</td>\n",
       "      <td>104014.000000</td>\n",
       "    </tr>\n",
       "    <tr>\n",
       "      <th>25%</th>\n",
       "      <td>109.205000</td>\n",
       "      <td>152.440000</td>\n",
       "      <td>92.355000</td>\n",
       "      <td>112.145000</td>\n",
       "      <td>194426.500000</td>\n",
       "    </tr>\n",
       "    <tr>\n",
       "      <th>50%</th>\n",
       "      <td>122.800000</td>\n",
       "      <td>155.015000</td>\n",
       "      <td>94.220000</td>\n",
       "      <td>127.760000</td>\n",
       "      <td>276089.000000</td>\n",
       "    </tr>\n",
       "    <tr>\n",
       "      <th>75%</th>\n",
       "      <td>137.080000</td>\n",
       "      <td>157.635000</td>\n",
       "      <td>96.812500</td>\n",
       "      <td>136.210000</td>\n",
       "      <td>368522.500000</td>\n",
       "    </tr>\n",
       "    <tr>\n",
       "      <th>max</th>\n",
       "      <td>148.500000</td>\n",
       "      <td>159.870000</td>\n",
       "      <td>99.860000</td>\n",
       "      <td>148.650000</td>\n",
       "      <td>493002.000000</td>\n",
       "    </tr>\n",
       "  </tbody>\n",
       "</table>\n",
       "</div>"
      ],
      "text/plain": [
       "             Open        High        Low       Close         Volume\n",
       "count   55.000000   60.000000  60.000000   55.000000      55.000000\n",
       "mean   123.603273  154.867500  94.621833  124.989273  284198.072727\n",
       "std     15.554059    2.922688   2.885187   14.502554  110080.834937\n",
       "min    101.030000  150.060000  90.070000  100.250000  104014.000000\n",
       "25%    109.205000  152.440000  92.355000  112.145000  194426.500000\n",
       "50%    122.800000  155.015000  94.220000  127.760000  276089.000000\n",
       "75%    137.080000  157.635000  96.812500  136.210000  368522.500000\n",
       "max    148.500000  159.870000  99.860000  148.650000  493002.000000"
      ]
     },
     "execution_count": 1,
     "metadata": {},
     "output_type": "execute_result"
    }
   ],
   "source": [
    "import pandas as pd\n",
    "import seaborn as sns\n",
    "import matplotlib.pyplot as plt\n",
    "\n",
    "df=pd.read_csv(\"custom_stock_data.csv\", index_col=\"Date\", parse_dates=True)\n",
    "\n",
    "df.describe()\n",
    "#This helps you look at min, max, 25%-75% (IQR) to spot unusual values."
   ]
  },
  {
   "cell_type": "code",
   "execution_count": null,
   "id": "fefc5bd6",
   "metadata": {},
   "outputs": [
    {
     "data": {
      "image/png": "[encoded data removed]",
      "text/plain": [
       "<Figure size 640x480 with 1 Axes>"
      ]
     },
     "metadata": {},
     "output_type": "display_data"
    }
   ],
   "source": [
    "sns.boxplot(x=df['Close'])\n",
    "plt.show()\n",
    "\n",
    "#This is Box Plot Visuak Detection Method on X axis of the graph"
   ]
  },
  {
   "cell_type": "code",
   "execution_count": 8,
   "id": "60d1f104",
   "metadata": {},
   "outputs": [
    {
     "name": "stdout",
     "output_type": "stream",
     "text": [
      "Empty DataFrame\n",
      "Columns: [Open, High, Low, Close, Volume]\n",
      "Index: []\n"
     ]
    }
   ],
   "source": [
    "#  IQR Method (most common for numeric data)\n",
    "Q1 = df['Close'].quantile(0.25)\n",
    "Q3 = df['Close'].quantile(0.75)\n",
    "IQR = Q3 - Q1\n",
    "\n",
    "lower_bound = Q1 - 1.5 * IQR\n",
    "upper_bound = Q3 + 1.5 * IQR\n",
    "\n",
    "# Filter out outliers\n",
    "outliers = df[(df['Close'] < lower_bound) | (df['Close'] > upper_bound)]\n",
    "\n",
    "print(outliers)\n"
   ]
  }
 ],
 "metadata": {
  "kernelspec": {
   "display_name": "venv",
   "language": "python",
   "name": "python3"
  },
  "language_info": {
   "codemirror_mode": {
    "name": "ipython",
    "version": 3
   },
   "file_extension": ".py",
   "mimetype": "text/x-python",
   "name": "python",
   "nbconvert_exporter": "python",
   "pygments_lexer": "ipython3",
   "version": "3.11.1"
  }
 },
 "nbformat": 4,
 "nbformat_minor": 5
}
